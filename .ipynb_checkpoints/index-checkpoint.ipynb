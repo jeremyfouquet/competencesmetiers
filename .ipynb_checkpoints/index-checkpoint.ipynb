{
 "cells": [
  {
   "cell_type": "markdown",
   "id": "bddeb402",
   "metadata": {},
   "source": [
    "# DESCRIPTION de kmean :\n",
    "L'algorithme K-means est un algorithme d'apprentissage non supervisé utilisé pour résoudre des problèmes de clustering. Il suit une procédure itérative pour classer un ensemble de données dans un nombre fixé à l'avance de clusters, noté \"k\".\n",
    "Au départ, k centres de cluster sont sélectionnés aléatoirement dans l'espace des caractéristiques pour représenter les positions des clusters. Ensuite, la distance entre chaque point de données et les centres de cluster est calculée, généralement en utilisant la distance euclidienne. Chaque point de données est attribué au centre de cluster le plus proche en termes de distance.\n",
    "Après cette étape d'attribution, les centres de cluster sont mis à jour. Cela implique de recalculer les nouvelles positions des centres de cluster en utilisant les points de données attribués à chaque cluster. Les nouvelles positions sont généralement déterminées en calculant la moyenne des caractéristiques de tous les points de données du cluster.\n",
    "Ce processus d'attribution et de mise à jour est répété de manière itérative jusqu'à ce qu'une convergence soit atteinte, c'est-à-dire que les centres de cluster ne se déplacent que très peu entre les itérations successives ou que certains critères d'arrêt prédéfinis soient satisfaits.\n",
    "Ainsi, l'algorithme K-means vise à minimiser l'inertie intra-cluster, qui mesure la dispersion des points de données à l'intérieur de chaque cluster, en regroupant les points de données similaires ensemble."
   ]
  },
  {
   "cell_type": "raw",
   "id": "372f5150",
   "metadata": {},
   "source": [
    "Importation des bibliothèques nécessaires\n",
    "Tout d'abord, importez les bibliothèques nécessaires dans votre programme Python. Vous aurez besoin de la bibliothèque pandas pour manipuler les données à partir du fichier CSV, ainsi que de scikit-learn pour la vectorisation du texte et l'application de K-means."
   ]
  },
  {
   "cell_type": "code",
   "execution_count": 13,
   "id": "85036c34",
   "metadata": {},
   "outputs": [
    {
     "name": "stderr",
     "output_type": "stream",
     "text": [
      "[nltk_data] Downloading package stopwords to\n",
      "[nltk_data]     /Users/jeremyfouquet/nltk_data...\n",
      "[nltk_data]   Package stopwords is already up-to-date!\n",
      "[nltk_data] Downloading package punkt to\n",
      "[nltk_data]     /Users/jeremyfouquet/nltk_data...\n",
      "[nltk_data]   Package punkt is already up-to-date!\n"
     ]
    }
   ],
   "source": [
    "import pandas as pd\n",
    "from sklearn.feature_extraction.text import TfidfVectorizer\n",
    "from sklearn.cluster import KMeans\n",
    "import nltk\n",
    "from nltk.corpus import stopwords\n",
    "from nltk.tokenize import word_tokenize\n",
    "nltk.download('stopwords')\n",
    "nltk.download('punkt')\n",
    "from sklearn import metrics\n",
    "import matplotlib.pyplot as plt\n",
    "import numpy as np\n",
    "from sklearn.decomposition import PCA"
   ]
  },
  {
   "cell_type": "raw",
   "id": "8be88259",
   "metadata": {},
   "source": [
    "Chargez les données à partir du fichier CSV dans un DataFrame pandas. Assurez-vous que votre fichier CSV contient deux colonnes nommées \"nom du metier\" et \"description du metier\"."
   ]
  },
  {
   "cell_type": "code",
   "execution_count": 14,
   "id": "228b7ee7",
   "metadata": {},
   "outputs": [
    {
     "data": {
      "text/html": [
       "<div>\n",
       "<style scoped>\n",
       "    .dataframe tbody tr th:only-of-type {\n",
       "        vertical-align: middle;\n",
       "    }\n",
       "\n",
       "    .dataframe tbody tr th {\n",
       "        vertical-align: top;\n",
       "    }\n",
       "\n",
       "    .dataframe thead th {\n",
       "        text-align: right;\n",
       "    }\n",
       "</style>\n",
       "<table border=\"1\" class=\"dataframe\">\n",
       "  <thead>\n",
       "    <tr style=\"text-align: right;\">\n",
       "      <th></th>\n",
       "      <th>metier</th>\n",
       "      <th>competences</th>\n",
       "    </tr>\n",
       "  </thead>\n",
       "  <tbody>\n",
       "    <tr>\n",
       "      <th>0</th>\n",
       "      <td>Scrum master</td>\n",
       "      <td>Analyser les besoins du client. Analyser les b...</td>\n",
       "    </tr>\n",
       "    <tr>\n",
       "      <th>1</th>\n",
       "      <td>Scrum master</td>\n",
       "      <td>Analyser les besoins du client. Concevoir et d...</td>\n",
       "    </tr>\n",
       "    <tr>\n",
       "      <th>2</th>\n",
       "      <td>Scrum master</td>\n",
       "      <td>Analyser les besoins du client. Concevoir et d...</td>\n",
       "    </tr>\n",
       "    <tr>\n",
       "      <th>3</th>\n",
       "      <td>Scrum master</td>\n",
       "      <td>Analyser les besoins du client. Concevoir et d...</td>\n",
       "    </tr>\n",
       "    <tr>\n",
       "      <th>4</th>\n",
       "      <td>Scrum master</td>\n",
       "      <td>Analyser les besoins du client. Concevoir et d...</td>\n",
       "    </tr>\n",
       "    <tr>\n",
       "      <th>...</th>\n",
       "      <td>...</td>\n",
       "      <td>...</td>\n",
       "    </tr>\n",
       "    <tr>\n",
       "      <th>3199</th>\n",
       "      <td>Développeur informatique</td>\n",
       "      <td>Analyser les besoins du client. Concevoir et d...</td>\n",
       "    </tr>\n",
       "    <tr>\n",
       "      <th>3200</th>\n",
       "      <td>Développeur informatique</td>\n",
       "      <td>Langage informatique Java. Langage informatiqu...</td>\n",
       "    </tr>\n",
       "    <tr>\n",
       "      <th>3201</th>\n",
       "      <td>Développeur informatique</td>\n",
       "      <td>Analyser les besoins du client. Concevoir et d...</td>\n",
       "    </tr>\n",
       "    <tr>\n",
       "      <th>3202</th>\n",
       "      <td>Développeur informatique</td>\n",
       "      <td>Analyser les besoins du client. Concevoir et d...</td>\n",
       "    </tr>\n",
       "    <tr>\n",
       "      <th>3203</th>\n",
       "      <td>Développeur informatique</td>\n",
       "      <td>Analyser les besoins du client. Concevoir et d...</td>\n",
       "    </tr>\n",
       "  </tbody>\n",
       "</table>\n",
       "<p>3204 rows × 2 columns</p>\n",
       "</div>"
      ],
      "text/plain": [
       "                        metier  \\\n",
       "0                 Scrum master   \n",
       "1                 Scrum master   \n",
       "2                 Scrum master   \n",
       "3                 Scrum master   \n",
       "4                 Scrum master   \n",
       "...                        ...   \n",
       "3199  Développeur informatique   \n",
       "3200  Développeur informatique   \n",
       "3201  Développeur informatique   \n",
       "3202  Développeur informatique   \n",
       "3203  Développeur informatique   \n",
       "\n",
       "                                            competences  \n",
       "0     Analyser les besoins du client. Analyser les b...  \n",
       "1     Analyser les besoins du client. Concevoir et d...  \n",
       "2     Analyser les besoins du client. Concevoir et d...  \n",
       "3     Analyser les besoins du client. Concevoir et d...  \n",
       "4     Analyser les besoins du client. Concevoir et d...  \n",
       "...                                                 ...  \n",
       "3199  Analyser les besoins du client. Concevoir et d...  \n",
       "3200  Langage informatique Java. Langage informatiqu...  \n",
       "3201  Analyser les besoins du client. Concevoir et d...  \n",
       "3202  Analyser les besoins du client. Concevoir et d...  \n",
       "3203  Analyser les besoins du client. Concevoir et d...  \n",
       "\n",
       "[3204 rows x 2 columns]"
      ]
     },
     "execution_count": 14,
     "metadata": {},
     "output_type": "execute_result"
    }
   ],
   "source": [
    "train = pd.read_csv(\"train.csv\", sep=\",\")\n",
    "train"
   ]
  },
  {
   "cell_type": "raw",
   "id": "f2a0c28f",
   "metadata": {},
   "source": [
    "Prétraitement des données : avant de pouvoir appliquer la vectorisation du texte, nous devons effectuer des étapes de prétraitement sur les données textuelles, telles que la suppression des caractères spéciaux, la mise en minuscule, la suppression des mots vides (stop words), etc. nous utilisons la bibliothèques NLTK (Natural Language Toolkit) pour cela."
   ]
  },
  {
   "cell_type": "code",
   "execution_count": 15,
   "id": "fe55944a",
   "metadata": {},
   "outputs": [],
   "source": [
    "# Prétraitement du texte\n",
    "stop_words = set(stopwords.words('french'))  # Mots vides en français\n",
    "train['competences'] = train['competences'].apply(lambda x: ' '.join([word for word in word_tokenize(x.lower()) if word.isalpha() and word not in stop_words]))"
   ]
  },
  {
   "cell_type": "raw",
   "id": "62d03637",
   "metadata": {},
   "source": [
    "Vectorisation du texte : Nous utilisons la technique de vectorisation du texte (par exemple, TF-IDF ou Word2Vec) pour représenter les descriptions de métiers sous forme de vecteurs numériques. Dans cet exemple, nous utiliserons TfidfVectorizer pour la vectorisation TF-IDF.\n",
    "\n",
    "TF-IDF (Term Frequency-Inverse Document Frequency) est une technique couramment utilisée pour la représentation vectorielle du texte. Elle permet de quantifier l'importance d'un terme (mot) dans un document par rapport à une collection de documents.\n",
    "\n",
    "La formule mathématique de la vectorisation TF-IDF pour un terme donné t dans un document d est donnée par :\n",
    "\n",
    "TF-IDF(i, j) = TF(i, j) * IDF(i)\n",
    "\n",
    "TF(i, j) est la fréquence du terme i dans le document j. Elle est généralement calculée en utilisant la formule\n",
    "\n",
    "IDF(i) est l'inverse de la fréquence de document du terme i dans la collection de documents.\n",
    "\n",
    "L'objectif de TF-IDF est de donner plus de poids aux termes qui sont fréquents dans un document particulier, mais rares dans l'ensemble de la collection de documents. Ainsi, les termes qui sont discriminants pour un document donné sont mis en évidence.\n",
    "\n",
    "Dans l'exemple de code ci-dessous, le TfidfVectorizer de la bibliothèque scikit-learn est utilisé pour effectuer la vectorisation TF-IDF. Il transforme les competences des métiers en une matrice creuse où chaque ligne représente un document et chaque colonne représente un terme, avec les valeurs TF-IDF correspondantes.\n",
    "\n",
    "En utilisant la fonction fit_transform() du vectoriseur, la matrice de vecteurs TF-IDF X est obtenue à partir des données de compétences de métiers (train['competences']) dans le fichier CSV."
   ]
  },
  {
   "cell_type": "code",
   "execution_count": 16,
   "id": "c1927225",
   "metadata": {},
   "outputs": [],
   "source": [
    "vectorizer = TfidfVectorizer()\n",
    "X = vectorizer.fit_transform(train['competences'])"
   ]
  },
  {
   "cell_type": "raw",
   "id": "5344667e",
   "metadata": {},
   "source": [
    "Application de l'algorithme K-means : Nous appliquons l'algorithme K-means sur les vecteurs de competences de métiers pour les regrouper en clusters. Spécifiez le nombre de clusters souhaité (c'est-à-dire le nombre de métiers prédéfinis).\n",
    "\n",
    "Voici la formule utilisée dans l'algorithme K-means pour mettre à jour les centres de cluster et calculer la moyenne des caractéristiques de tous les points de données x attribués à ce cluster :\n",
    "\n",
    "μ_i = (1 / |C_i|) * Σ(x ∈ C_i) x\n",
    "\n",
    "C_i le i-ème cluster et μ_i son centre de cluster.\n",
    "\n",
    "|C_i| est le nombre de points de données dans le cluster C_i et Σ représente la somme.\n",
    "\n",
    "Plus précisément, pour chaque dimension j des caractéristiques, la valeur de la coordonnée μ_{i,j} du centre de cluster μ_i est calculée comme suit :\n",
    "\n",
    "μ_{i,j} = (1 / |C_i|) * Σ(x ∈ C_i) x_{j}\n",
    "\n",
    "\n",
    "x_{j} est la valeur de la dimension j du point de données x.\n",
    "\n",
    "Cela signifie que pour chaque dimension j, nous prenons la somme des valeurs de cette dimension pour tous les points de données du cluster C_i, puis nous divisons par le nombre de points de données dans le cluster |C_i| pour obtenir la moyenne.\n",
    "\n",
    "La formule décrite ci-dessus permet de mettre à jour les centres de cluster à chaque itération de l'algorithme K-means, en utilisant les points de données attribués à chaque cluster. Cela garantit que les centres de cluster se déplacent vers les positions qui minimisent la distance totale entre les points de données et leurs centres respectifs."
   ]
  },
  {
   "cell_type": "code",
   "execution_count": 17,
   "id": "5e617018",
   "metadata": {},
   "outputs": [
    {
     "data": {
      "text/html": [
       "<style>#sk-container-id-2 {color: black;background-color: white;}#sk-container-id-2 pre{padding: 0;}#sk-container-id-2 div.sk-toggleable {background-color: white;}#sk-container-id-2 label.sk-toggleable__label {cursor: pointer;display: block;width: 100%;margin-bottom: 0;padding: 0.3em;box-sizing: border-box;text-align: center;}#sk-container-id-2 label.sk-toggleable__label-arrow:before {content: \"▸\";float: left;margin-right: 0.25em;color: #696969;}#sk-container-id-2 label.sk-toggleable__label-arrow:hover:before {color: black;}#sk-container-id-2 div.sk-estimator:hover label.sk-toggleable__label-arrow:before {color: black;}#sk-container-id-2 div.sk-toggleable__content {max-height: 0;max-width: 0;overflow: hidden;text-align: left;background-color: #f0f8ff;}#sk-container-id-2 div.sk-toggleable__content pre {margin: 0.2em;color: black;border-radius: 0.25em;background-color: #f0f8ff;}#sk-container-id-2 input.sk-toggleable__control:checked~div.sk-toggleable__content {max-height: 200px;max-width: 100%;overflow: auto;}#sk-container-id-2 input.sk-toggleable__control:checked~label.sk-toggleable__label-arrow:before {content: \"▾\";}#sk-container-id-2 div.sk-estimator input.sk-toggleable__control:checked~label.sk-toggleable__label {background-color: #d4ebff;}#sk-container-id-2 div.sk-label input.sk-toggleable__control:checked~label.sk-toggleable__label {background-color: #d4ebff;}#sk-container-id-2 input.sk-hidden--visually {border: 0;clip: rect(1px 1px 1px 1px);clip: rect(1px, 1px, 1px, 1px);height: 1px;margin: -1px;overflow: hidden;padding: 0;position: absolute;width: 1px;}#sk-container-id-2 div.sk-estimator {font-family: monospace;background-color: #f0f8ff;border: 1px dotted black;border-radius: 0.25em;box-sizing: border-box;margin-bottom: 0.5em;}#sk-container-id-2 div.sk-estimator:hover {background-color: #d4ebff;}#sk-container-id-2 div.sk-parallel-item::after {content: \"\";width: 100%;border-bottom: 1px solid gray;flex-grow: 1;}#sk-container-id-2 div.sk-label:hover label.sk-toggleable__label {background-color: #d4ebff;}#sk-container-id-2 div.sk-serial::before {content: \"\";position: absolute;border-left: 1px solid gray;box-sizing: border-box;top: 0;bottom: 0;left: 50%;z-index: 0;}#sk-container-id-2 div.sk-serial {display: flex;flex-direction: column;align-items: center;background-color: white;padding-right: 0.2em;padding-left: 0.2em;position: relative;}#sk-container-id-2 div.sk-item {position: relative;z-index: 1;}#sk-container-id-2 div.sk-parallel {display: flex;align-items: stretch;justify-content: center;background-color: white;position: relative;}#sk-container-id-2 div.sk-item::before, #sk-container-id-2 div.sk-parallel-item::before {content: \"\";position: absolute;border-left: 1px solid gray;box-sizing: border-box;top: 0;bottom: 0;left: 50%;z-index: -1;}#sk-container-id-2 div.sk-parallel-item {display: flex;flex-direction: column;z-index: 1;position: relative;background-color: white;}#sk-container-id-2 div.sk-parallel-item:first-child::after {align-self: flex-end;width: 50%;}#sk-container-id-2 div.sk-parallel-item:last-child::after {align-self: flex-start;width: 50%;}#sk-container-id-2 div.sk-parallel-item:only-child::after {width: 0;}#sk-container-id-2 div.sk-dashed-wrapped {border: 1px dashed gray;margin: 0 0.4em 0.5em 0.4em;box-sizing: border-box;padding-bottom: 0.4em;background-color: white;}#sk-container-id-2 div.sk-label label {font-family: monospace;font-weight: bold;display: inline-block;line-height: 1.2em;}#sk-container-id-2 div.sk-label-container {text-align: center;}#sk-container-id-2 div.sk-container {/* jupyter's `normalize.less` sets `[hidden] { display: none; }` but bootstrap.min.css set `[hidden] { display: none !important; }` so we also need the `!important` here to be able to override the default hidden behavior on the sphinx rendered scikit-learn.org. See: https://github.com/scikit-learn/scikit-learn/issues/21755 */display: inline-block !important;position: relative;}#sk-container-id-2 div.sk-text-repr-fallback {display: none;}</style><div id=\"sk-container-id-2\" class=\"sk-top-container\"><div class=\"sk-text-repr-fallback\"><pre>KMeans(n_clusters=30, n_init=10)</pre><b>In a Jupyter environment, please rerun this cell to show the HTML representation or trust the notebook. <br />On GitHub, the HTML representation is unable to render, please try loading this page with nbviewer.org.</b></div><div class=\"sk-container\" hidden><div class=\"sk-item\"><div class=\"sk-estimator sk-toggleable\"><input class=\"sk-toggleable__control sk-hidden--visually\" id=\"sk-estimator-id-2\" type=\"checkbox\" checked><label for=\"sk-estimator-id-2\" class=\"sk-toggleable__label sk-toggleable__label-arrow\">KMeans</label><div class=\"sk-toggleable__content\"><pre>KMeans(n_clusters=30, n_init=10)</pre></div></div></div></div></div>"
      ],
      "text/plain": [
       "KMeans(n_clusters=30, n_init=10)"
      ]
     },
     "execution_count": 17,
     "metadata": {},
     "output_type": "execute_result"
    }
   ],
   "source": [
    "k = 30  # Nombre de clusters (métiers)\n",
    "n_init = 10  # Nombre d'initialisations pour l'algorithme K-means\n",
    "\n",
    "kmeans = KMeans(n_clusters=k, n_init=n_init)\n",
    "kmeans.fit(X)"
   ]
  },
  {
   "cell_type": "raw",
   "id": "219c1589",
   "metadata": {},
   "source": [
    "Attribution des clusters aux métiers : Une fois que nous avons effectué le clustering, nous pouvons attribuer les clusters à chaque métier en fonction de la proximité de sa description avec les centres des clusters."
   ]
  },
  {
   "cell_type": "code",
   "execution_count": 18,
   "id": "3b415a90",
   "metadata": {},
   "outputs": [],
   "source": [
    "train['cluster'] = kmeans.labels_"
   ]
  },
  {
   "cell_type": "code",
   "execution_count": 19,
   "id": "790a3533",
   "metadata": {},
   "outputs": [
    {
     "name": "stdout",
     "output_type": "stream",
     "text": [
      "Inertie :  649.1200064403426\n",
      "Indice de silhouette :  0.6138253170065254\n"
     ]
    }
   ],
   "source": [
    "# Calcul de l'inertie (somme des carrés des distances des échantillons à leur centre de cluster le plus proche)\n",
    "inertia = kmeans.inertia_\n",
    "\n",
    "# Calcul de l'indice de silhouette\n",
    "silhouette_score = metrics.silhouette_score(X, kmeans.labels_)\n",
    "\n",
    "print(\"Inertie : \", inertia)\n",
    "print(\"Indice de silhouette : \", silhouette_score)"
   ]
  },
  {
   "cell_type": "raw",
   "id": "0b2ae45b",
   "metadata": {},
   "source": [
    "Visualisation des clusters : Nous pouvons également visualiser les clusters obtenus pour mieux comprendre la structure des données.\n",
    "Cette visualisation réduit la dimension des données à deux dimensions à l'aide de l'analyse en composantes principales (PCA) afin de pouvoir les représenter graphiquement. Chaque point représente une description de métier, colorée en fonction de son cluster attribué par K-means."
   ]
  },
  {
   "cell_type": "code",
   "execution_count": 20,
   "id": "24577ca5",
   "metadata": {},
   "outputs": [
    {
     "data": {
      "image/png": "[encoded data removed]",
      "text/plain": [
       "<Figure size 640x480 with 1 Axes>"
      ]
     },
     "metadata": {},
     "output_type": "display_data"
    }
   ],
   "source": [
    "# Réduction de dimension pour visualisation\n",
    "pca = PCA(n_components=2)\n",
    "X_pca = pca.fit_transform(X.toarray())\n",
    "\n",
    "# Visualisation des clusters\n",
    "plt.scatter(X_pca[:, 0], X_pca[:, 1], c=kmeans.labels_, cmap='viridis')\n",
    "plt.title(\"Visualisation des clusters\")\n",
    "plt.show()"
   ]
  },
  {
   "cell_type": "raw",
   "id": "74621fd4",
   "metadata": {},
   "source": [
    "Prédiction d'un nouveau métier : maintenant, nous pouvons utiliser le modèle entraîné pour prédire le cluster (et donc le nom du métier) d'une nouvelle liste de competences non représentée dans le corpus d'apprentissage. Pour cela nous allons d'abord prétraiter la nouvelle liste de competences et la vectoriser avant de l'attribuer à un cluster\n",
    "\n",
    "Évaluation du modèle : Il est important d'évaluer la qualité de la classification obtenue à l'aide de K-means. Pour cela, nous utilisons des métriques d'évaluation telles que l'indice de silhouette ou la mesure inertielle (inertia) pour évaluer la cohésion et la séparation des clusters.\n",
    "Une faible valeur d'inertie et un indice de silhouette proche de 1 indiquent une bonne séparation des clusters et une bonne cohésion à l'intérieur de chaque cluster.\n",
    "\n",
    "Ainsi, la fonction predire_metier prend une nouvelle description en entrée, effectue le prétraitement, la vectorisation et la prédiction du métier correspondant à l'aide du modèle K-means entraîné."
   ]
  },
  {
   "cell_type": "code",
   "execution_count": 23,
   "id": "3590b134",
   "metadata": {},
   "outputs": [
    {
     "name": "stdout",
     "output_type": "stream",
     "text": [
      "Veuillez saisir une description de compétences : javascript\n",
      "Métier prédit : Scrum master\n"
     ]
    }
   ],
   "source": [
    "def predire_metier(nouvelles_competences):\n",
    "    # Prétraitement de la nouvelle liste de competences\n",
    "    nouvelle_competences_preprocessed = ' '.join([word for word in word_tokenize(nouvelles_competences.lower()) if word.isalpha() and word not in stop_words])\n",
    "    # Vectorisation de la nouvelle iste de competences\n",
    "    nouvelle_competences_vectorized = vectorizer.transform([nouvelle_competences_preprocessed])\n",
    "    # Prédiction du cluster pour la nouvelle iste de competences\n",
    "    nouveau_cluster = kmeans.predict(nouvelle_competences_vectorized)[0]\n",
    "    # Récupération du nom du métier correspondant au cluster prédit\n",
    "    nom_metier_predit = train[train['cluster'] == nouveau_cluster]['metier'].values[0]    \n",
    "    return nom_metier_predit\n",
    "\n",
    "# Utilisation de la fonction de prédiction\n",
    "# ex = 'Application web. Concevoir une application web. Déterminer des mesures correctives. Réaliser un diagnostic technique. Rédiger un cahier des charges, des spécifications techniques. Faire preuve de réactivité. Respecter ses engagements, assumer ses responsabilités. Faire preuve de rigueur et de précision'\n",
    "liste_competences = input(\"Veuillez saisir une description de compétences : \")\n",
    "nom_metier_predit = predire_metier(liste_competences)\n",
    "print(\"Métier prédit :\", nom_metier_predit)"
   ]
  },
  {
   "cell_type": "code",
   "execution_count": 10,
   "id": "3c1f8931",
   "metadata": {},
   "outputs": [],
   "source": [
    "del train, stop_words, vectorizer, X, k, n_init, kmeans, nom_metier_predit, liste_competences, inertia, silhouette_score, pca, X_pca"
   ]
  },
  {
   "cell_type": "raw",
   "id": "16ce0892",
   "metadata": {},
   "source": [
    "Ce projet permettant de predire le nom d'un metier en fonction des compétences, peut être intérréssant pour les recruteur lorsque plusieur profil metier peuvent correspondre à une fiche de poste, pour donnée l'intitulé du poste sur les job board et correspondre au mieux au profil du candidat grace à la recherche par titre de l'offre."
   ]
  },
  {
   "cell_type": "code",
   "execution_count": null,
   "id": "f25fc446",
   "metadata": {},
   "outputs": [],
   "source": []
  }
 ],
 "metadata": {
  "kernelspec": {
   "display_name": "Python 3 (ipykernel)",
   "language": "python",
   "name": "python3"
  },
  "language_info": {
   "codemirror_mode": {
    "name": "ipython",
    "version": 3
   },
   "file_extension": ".py",
   "mimetype": "text/x-python",
   "name": "python",
   "nbconvert_exporter": "python",
   "pygments_lexer": "ipython3",
   "version": "3.9.13"
  }
 },
 "nbformat": 4,
 "nbformat_minor": 5
}
